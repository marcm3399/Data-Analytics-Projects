{
 "cells": [
  {
   "cell_type": "markdown",
   "metadata": {},
   "source": [
    "# Final Project - Classification for Credit Card Default"
   ]
  },
  {
   "cell_type": "markdown",
   "metadata": {},
   "source": [
    "**By: Marc Maestri and Wangui Kamau"
   ]
  },
  {
   "cell_type": "markdown",
   "metadata": {},
   "source": [
    "## Problem Statement: Using this datatset, we are trying to make a model that can predict if a customer will default on their credit or not. To solve this, we use different variables such as their annual income, the monthly balance of their account, and if they are a student or not. \n",
    "\n",
    "### Source: Kaggle"
   ]
  },
  {
   "cell_type": "code",
   "execution_count": 374,
   "metadata": {},
   "outputs": [],
   "source": [
    "# Import cell\n",
    "import matplotlib.pylab as plt\n",
    "import pandas as pd\n",
    "import numpy as np\n",
    "import matplotlib.pyplot as plt\n",
    "import seaborn as sns\n",
    "from sklearn.decomposition import PCA\n",
    "from sklearn import preprocessing\n",
    "from sklearn.cluster import KMeans\n",
    "from sklearn.preprocessing import StandardScaler\n",
    "from sklearn.model_selection import train_test_split\n",
    "from sklearn.metrics import accuracy_score\n",
    "from sklearn.neighbors import NearestNeighbors, KNeighborsClassifier\n",
    "import statsmodels.api as sm\n",
    "from sklearn.metrics import confusion_matrix\n",
    "from sklearn.linear_model import LogisticRegression, LogisticRegressionCV\n",
    "from sklearn import metrics\n",
    "from sklearn.naive_bayes import MultinomialNB\n",
    "from sklearn.naive_bayes import GaussianNB\n",
    "from dmba import classificationSummary, gainsChart, liftChart\n",
    "from dmba.metric import AIC_score\n",
    "%matplotlib inline\n",
    "import warnings\n",
    "warnings.filterwarnings('ignore')"
   ]
  },
  {
   "cell_type": "code",
   "execution_count": 375,
   "metadata": {},
   "outputs": [],
   "source": [
    "# Read csv\n",
    "df_credit = pd.read_csv('/Users/marcmaestri/Downloads/credit_card_defaulter.csv')"
   ]
  },
  {
   "cell_type": "code",
   "execution_count": 376,
   "metadata": {},
   "outputs": [
    {
     "data": {
      "text/html": [
       "<div>\n",
       "<style scoped>\n",
       "    .dataframe tbody tr th:only-of-type {\n",
       "        vertical-align: middle;\n",
       "    }\n",
       "\n",
       "    .dataframe tbody tr th {\n",
       "        vertical-align: top;\n",
       "    }\n",
       "\n",
       "    .dataframe thead th {\n",
       "        text-align: right;\n",
       "    }\n",
       "</style>\n",
       "<table border=\"1\" class=\"dataframe\">\n",
       "  <thead>\n",
       "    <tr style=\"text-align: right;\">\n",
       "      <th></th>\n",
       "      <th>Unnamed: 0</th>\n",
       "      <th>default</th>\n",
       "      <th>student</th>\n",
       "      <th>balance</th>\n",
       "      <th>income</th>\n",
       "    </tr>\n",
       "  </thead>\n",
       "  <tbody>\n",
       "    <tr>\n",
       "      <th>0</th>\n",
       "      <td>1</td>\n",
       "      <td>No</td>\n",
       "      <td>No</td>\n",
       "      <td>729.526495</td>\n",
       "      <td>44361.625070</td>\n",
       "    </tr>\n",
       "    <tr>\n",
       "      <th>1</th>\n",
       "      <td>2</td>\n",
       "      <td>No</td>\n",
       "      <td>Yes</td>\n",
       "      <td>817.180407</td>\n",
       "      <td>12106.134700</td>\n",
       "    </tr>\n",
       "    <tr>\n",
       "      <th>2</th>\n",
       "      <td>3</td>\n",
       "      <td>No</td>\n",
       "      <td>No</td>\n",
       "      <td>1073.549164</td>\n",
       "      <td>31767.138950</td>\n",
       "    </tr>\n",
       "    <tr>\n",
       "      <th>3</th>\n",
       "      <td>4</td>\n",
       "      <td>No</td>\n",
       "      <td>No</td>\n",
       "      <td>529.250605</td>\n",
       "      <td>35704.493940</td>\n",
       "    </tr>\n",
       "    <tr>\n",
       "      <th>4</th>\n",
       "      <td>5</td>\n",
       "      <td>No</td>\n",
       "      <td>No</td>\n",
       "      <td>785.655883</td>\n",
       "      <td>38463.495880</td>\n",
       "    </tr>\n",
       "    <tr>\n",
       "      <th>5</th>\n",
       "      <td>6</td>\n",
       "      <td>No</td>\n",
       "      <td>Yes</td>\n",
       "      <td>919.588531</td>\n",
       "      <td>7491.558572</td>\n",
       "    </tr>\n",
       "    <tr>\n",
       "      <th>6</th>\n",
       "      <td>7</td>\n",
       "      <td>No</td>\n",
       "      <td>No</td>\n",
       "      <td>825.513331</td>\n",
       "      <td>24905.226580</td>\n",
       "    </tr>\n",
       "    <tr>\n",
       "      <th>7</th>\n",
       "      <td>8</td>\n",
       "      <td>No</td>\n",
       "      <td>Yes</td>\n",
       "      <td>808.667504</td>\n",
       "      <td>17600.451340</td>\n",
       "    </tr>\n",
       "    <tr>\n",
       "      <th>8</th>\n",
       "      <td>9</td>\n",
       "      <td>No</td>\n",
       "      <td>No</td>\n",
       "      <td>1161.057854</td>\n",
       "      <td>37468.529290</td>\n",
       "    </tr>\n",
       "    <tr>\n",
       "      <th>9</th>\n",
       "      <td>10</td>\n",
       "      <td>No</td>\n",
       "      <td>No</td>\n",
       "      <td>0.000000</td>\n",
       "      <td>29275.268290</td>\n",
       "    </tr>\n",
       "  </tbody>\n",
       "</table>\n",
       "</div>"
      ],
      "text/plain": [
       "   Unnamed: 0 default student      balance        income\n",
       "0           1      No      No   729.526495  44361.625070\n",
       "1           2      No     Yes   817.180407  12106.134700\n",
       "2           3      No      No  1073.549164  31767.138950\n",
       "3           4      No      No   529.250605  35704.493940\n",
       "4           5      No      No   785.655883  38463.495880\n",
       "5           6      No     Yes   919.588531   7491.558572\n",
       "6           7      No      No   825.513331  24905.226580\n",
       "7           8      No     Yes   808.667504  17600.451340\n",
       "8           9      No      No  1161.057854  37468.529290\n",
       "9          10      No      No     0.000000  29275.268290"
      ]
     },
     "execution_count": 376,
     "metadata": {},
     "output_type": "execute_result"
    }
   ],
   "source": [
    "df_credit.head(10)"
   ]
  },
  {
   "cell_type": "markdown",
   "metadata": {},
   "source": [
    "We want to change the default and student coloumns from 'No' and 'Yes' to 0 and 1 to make classification models. We can also drop the count column 'Unnamed: 0'. "
   ]
  },
  {
   "cell_type": "code",
   "execution_count": 377,
   "metadata": {},
   "outputs": [],
   "source": [
    "df_credit['default'] = df_credit.default.factorize()[0]\n",
    "df_credit['student'] = df_credit.student.factorize()[0]\n",
    "df_credit = df_credit.drop('Unnamed: 0', axis = 1)"
   ]
  },
  {
   "cell_type": "code",
   "execution_count": 378,
   "metadata": {},
   "outputs": [
    {
     "data": {
      "text/html": [
       "<div>\n",
       "<style scoped>\n",
       "    .dataframe tbody tr th:only-of-type {\n",
       "        vertical-align: middle;\n",
       "    }\n",
       "\n",
       "    .dataframe tbody tr th {\n",
       "        vertical-align: top;\n",
       "    }\n",
       "\n",
       "    .dataframe thead th {\n",
       "        text-align: right;\n",
       "    }\n",
       "</style>\n",
       "<table border=\"1\" class=\"dataframe\">\n",
       "  <thead>\n",
       "    <tr style=\"text-align: right;\">\n",
       "      <th></th>\n",
       "      <th>default</th>\n",
       "      <th>student</th>\n",
       "      <th>balance</th>\n",
       "      <th>income</th>\n",
       "    </tr>\n",
       "  </thead>\n",
       "  <tbody>\n",
       "    <tr>\n",
       "      <th>0</th>\n",
       "      <td>0</td>\n",
       "      <td>0</td>\n",
       "      <td>729.526495</td>\n",
       "      <td>44361.62507</td>\n",
       "    </tr>\n",
       "    <tr>\n",
       "      <th>1</th>\n",
       "      <td>0</td>\n",
       "      <td>1</td>\n",
       "      <td>817.180407</td>\n",
       "      <td>12106.13470</td>\n",
       "    </tr>\n",
       "    <tr>\n",
       "      <th>2</th>\n",
       "      <td>0</td>\n",
       "      <td>0</td>\n",
       "      <td>1073.549164</td>\n",
       "      <td>31767.13895</td>\n",
       "    </tr>\n",
       "    <tr>\n",
       "      <th>3</th>\n",
       "      <td>0</td>\n",
       "      <td>0</td>\n",
       "      <td>529.250605</td>\n",
       "      <td>35704.49394</td>\n",
       "    </tr>\n",
       "    <tr>\n",
       "      <th>4</th>\n",
       "      <td>0</td>\n",
       "      <td>0</td>\n",
       "      <td>785.655883</td>\n",
       "      <td>38463.49588</td>\n",
       "    </tr>\n",
       "  </tbody>\n",
       "</table>\n",
       "</div>"
      ],
      "text/plain": [
       "   default  student      balance       income\n",
       "0        0        0   729.526495  44361.62507\n",
       "1        0        1   817.180407  12106.13470\n",
       "2        0        0  1073.549164  31767.13895\n",
       "3        0        0   529.250605  35704.49394\n",
       "4        0        0   785.655883  38463.49588"
      ]
     },
     "execution_count": 378,
     "metadata": {},
     "output_type": "execute_result"
    }
   ],
   "source": [
    "df_credit.head()"
   ]
  },
  {
   "cell_type": "code",
   "execution_count": 379,
   "metadata": {},
   "outputs": [
    {
     "data": {
      "text/plain": [
       "default    0\n",
       "student    0\n",
       "balance    0\n",
       "income     0\n",
       "dtype: int64"
      ]
     },
     "execution_count": 379,
     "metadata": {},
     "output_type": "execute_result"
    }
   ],
   "source": [
    "# Check for nulls\n",
    "df_credit.isnull().sum()"
   ]
  },
  {
   "cell_type": "code",
   "execution_count": 380,
   "metadata": {},
   "outputs": [
    {
     "data": {
      "text/html": [
       "<div>\n",
       "<style scoped>\n",
       "    .dataframe tbody tr th:only-of-type {\n",
       "        vertical-align: middle;\n",
       "    }\n",
       "\n",
       "    .dataframe tbody tr th {\n",
       "        vertical-align: top;\n",
       "    }\n",
       "\n",
       "    .dataframe thead th {\n",
       "        text-align: right;\n",
       "    }\n",
       "</style>\n",
       "<table border=\"1\" class=\"dataframe\">\n",
       "  <thead>\n",
       "    <tr style=\"text-align: right;\">\n",
       "      <th></th>\n",
       "      <th>count</th>\n",
       "      <th>mean</th>\n",
       "      <th>std</th>\n",
       "      <th>min</th>\n",
       "      <th>25%</th>\n",
       "      <th>50%</th>\n",
       "      <th>75%</th>\n",
       "      <th>max</th>\n",
       "    </tr>\n",
       "  </thead>\n",
       "  <tbody>\n",
       "    <tr>\n",
       "      <th>default</th>\n",
       "      <td>10000.0</td>\n",
       "      <td>0.033300</td>\n",
       "      <td>0.179428</td>\n",
       "      <td>0.000000</td>\n",
       "      <td>0.000000</td>\n",
       "      <td>0.000000</td>\n",
       "      <td>0.000000</td>\n",
       "      <td>1.000000</td>\n",
       "    </tr>\n",
       "    <tr>\n",
       "      <th>student</th>\n",
       "      <td>10000.0</td>\n",
       "      <td>0.294400</td>\n",
       "      <td>0.455795</td>\n",
       "      <td>0.000000</td>\n",
       "      <td>0.000000</td>\n",
       "      <td>0.000000</td>\n",
       "      <td>1.000000</td>\n",
       "      <td>1.000000</td>\n",
       "    </tr>\n",
       "    <tr>\n",
       "      <th>balance</th>\n",
       "      <td>10000.0</td>\n",
       "      <td>835.374886</td>\n",
       "      <td>483.714985</td>\n",
       "      <td>0.000000</td>\n",
       "      <td>481.731105</td>\n",
       "      <td>823.636973</td>\n",
       "      <td>1166.308387</td>\n",
       "      <td>2654.322576</td>\n",
       "    </tr>\n",
       "    <tr>\n",
       "      <th>income</th>\n",
       "      <td>10000.0</td>\n",
       "      <td>33516.981876</td>\n",
       "      <td>13336.639563</td>\n",
       "      <td>771.967729</td>\n",
       "      <td>21340.462905</td>\n",
       "      <td>34552.644800</td>\n",
       "      <td>43807.729275</td>\n",
       "      <td>73554.233500</td>\n",
       "    </tr>\n",
       "  </tbody>\n",
       "</table>\n",
       "</div>"
      ],
      "text/plain": [
       "           count          mean           std         min           25%  \\\n",
       "default  10000.0      0.033300      0.179428    0.000000      0.000000   \n",
       "student  10000.0      0.294400      0.455795    0.000000      0.000000   \n",
       "balance  10000.0    835.374886    483.714985    0.000000    481.731105   \n",
       "income   10000.0  33516.981876  13336.639563  771.967729  21340.462905   \n",
       "\n",
       "                  50%           75%           max  \n",
       "default      0.000000      0.000000      1.000000  \n",
       "student      0.000000      1.000000      1.000000  \n",
       "balance    823.636973   1166.308387   2654.322576  \n",
       "income   34552.644800  43807.729275  73554.233500  "
      ]
     },
     "execution_count": 380,
     "metadata": {},
     "output_type": "execute_result"
    }
   ],
   "source": [
    "df_credit.describe().T"
   ]
  },
  {
   "cell_type": "code",
   "execution_count": 381,
   "metadata": {},
   "outputs": [
    {
     "data": {
      "text/plain": [
       "<bound method DataFrame.value_counts of       default  student      balance       income\n",
       "0           0        0   729.526495  44361.62507\n",
       "1           0        1   817.180407  12106.13470\n",
       "2           0        0  1073.549164  31767.13895\n",
       "3           0        0   529.250605  35704.49394\n",
       "4           0        0   785.655883  38463.49588\n",
       "...       ...      ...          ...          ...\n",
       "9995        0        0   711.555020  52992.37891\n",
       "9996        0        0   757.962918  19660.72177\n",
       "9997        0        0   845.411989  58636.15698\n",
       "9998        0        0  1569.009053  36669.11236\n",
       "9999        0        1   200.922183  16862.95232\n",
       "\n",
       "[10000 rows x 4 columns]>"
      ]
     },
     "execution_count": 381,
     "metadata": {},
     "output_type": "execute_result"
    }
   ],
   "source": [
    "df_credit.value_counts"
   ]
  },
  {
   "cell_type": "markdown",
   "metadata": {},
   "source": [
    "# Data Visualization"
   ]
  },
  {
   "cell_type": "code",
   "execution_count": 382,
   "metadata": {},
   "outputs": [
    {
     "data": {
      "image/png": "[encoded data removed]",
      "text/plain": [
       "<Figure size 432x288 with 2 Axes>"
      ]
     },
     "metadata": {
      "needs_background": "light"
     },
     "output_type": "display_data"
    }
   ],
   "source": [
    "# Heat correlation map\n",
    "sns.heatmap(df_credit.corr(), annot = True)\n",
    "plt.show()"
   ]
  },
  {
   "cell_type": "markdown",
   "metadata": {},
   "source": [
    "Balance correlates most to defaulting."
   ]
  },
  {
   "cell_type": "code",
   "execution_count": 383,
   "metadata": {},
   "outputs": [
    {
     "data": {
      "text/plain": [
       "333"
      ]
     },
     "execution_count": 383,
     "metadata": {},
     "output_type": "execute_result"
    },
    {
     "data": {
      "image/png": "[encoded data removed]",
      "text/plain": [
       "<Figure size 432x288 with 1 Axes>"
      ]
     },
     "metadata": {
      "needs_background": "light"
     },
     "output_type": "display_data"
    }
   ],
   "source": [
    "# See how many default vs non default\n",
    "sns.countplot(x = 'default', data = df_credit)\n",
    "print\n",
    "df_credit['default'].value_counts()[1]"
   ]
  },
  {
   "cell_type": "markdown",
   "metadata": {},
   "source": [
    "We see there are way more non-defaulters than defaulters, so to visualize we need to just take a sample of the non-defaulters."
   ]
  },
  {
   "cell_type": "code",
   "execution_count": 384,
   "metadata": {},
   "outputs": [
    {
     "data": {
      "text/plain": [
       "<bound method NDFrame.head of       default  student      balance        income\n",
       "7849        0        0   844.312567  52237.725480\n",
       "516         0        1   836.020689   9271.789924\n",
       "9387        0        0   110.555931  32419.150790\n",
       "5450        0        0     0.000000  44980.293040\n",
       "6267        0        0    72.371953  28717.940620\n",
       "...       ...      ...          ...           ...\n",
       "2194        0        0  1470.342593  26136.743690\n",
       "3125        0        0     0.000000  27167.260390\n",
       "1240        0        1   502.797735  13376.053340\n",
       "7238        0        1   385.397521  13739.166140\n",
       "8726        0        0   294.018790  59128.503400\n",
       "\n",
       "[483 rows x 4 columns]>"
      ]
     },
     "execution_count": 384,
     "metadata": {},
     "output_type": "execute_result"
    }
   ],
   "source": [
    "# Take a fraction of the samples where default is 'no'\n",
    "df_no = df_credit[df_credit.default == 0].sample(frac=0.05)\n",
    "\n",
    "# Take all samples  where target value is 'yes'\n",
    "df_yes = df_credit[df_credit.default == 1]\n",
    "df_no.head"
   ]
  },
  {
   "cell_type": "code",
   "execution_count": 385,
   "metadata": {},
   "outputs": [
    {
     "data": {
      "text/plain": [
       "<bound method NDFrame.head of       default  student      balance       income\n",
       "136         1        1  1486.998122  17854.39703\n",
       "173         1        1  2205.799521  14271.49225\n",
       "201         1        1  1774.694223  20359.50609\n",
       "206         1        0  1889.599190  48956.17159\n",
       "209         1        1  1899.390626  20655.20000\n",
       "...       ...      ...          ...          ...\n",
       "9912        1        0  2148.898454  44309.91717\n",
       "9921        1        1  1627.898323  17546.99702\n",
       "9949        1        0  1750.253150  51578.94016\n",
       "9951        1        0  1515.606239  48688.51209\n",
       "9978        1        0  2202.462395  47287.25711\n",
       "\n",
       "[333 rows x 4 columns]>"
      ]
     },
     "execution_count": 385,
     "metadata": {},
     "output_type": "execute_result"
    }
   ],
   "source": [
    "df_yes.head"
   ]
  },
  {
   "cell_type": "code",
   "execution_count": 386,
   "metadata": {},
   "outputs": [
    {
     "data": {
      "image/png": "[encoded data removed]",
      "text/plain": [
       "<Figure size 864x360 with 3 Axes>"
      ]
     },
     "metadata": {
      "needs_background": "light"
     },
     "output_type": "display_data"
    }
   ],
   "source": [
    "# Create 3 plots together\n",
    "fig = plt.figure(figsize=(12,5))\n",
    "gs = mpl.gridspec.GridSpec(1, 4)\n",
    "ax1 = plt.subplot(gs[0,:-2])\n",
    "ax2 = plt.subplot(gs[0,-2])\n",
    "ax3 = plt.subplot(gs[0,-1])\n",
    "\n",
    "# Income by balance scatter plot, showing who did default (yes) and the sample of who did not default (no).\n",
    "ax1.scatter(x=df_yes.balance, y=df_yes.income,  s=50, c='red', linewidths=1, alpha=.7)\n",
    "ax1.scatter(x=df_no.balance, y= df_no.income,   s=50, linewidths=1,edgecolors='green', facecolors='green', alpha=.1)\n",
    "\n",
    "ax1.set_ylim(ymin=0)\n",
    "ax1.set_ylabel('Income')\n",
    "ax1.set_xlim(xmin=-100)\n",
    "ax1.set_xlabel('Balance')\n",
    "\n",
    "# balance and income box plots, showing who did default (1) and the sample of who did not default (0).\n",
    "sns.boxplot(data=df_credit, x =\"default\", y= \"balance\", ax=ax2)\n",
    "sns.boxplot(data=df_credit, x =\"default\", y= \"income\", ax=ax3)\n",
    "gs.tight_layout(plt.gcf())"
   ]
  },
  {
   "cell_type": "markdown",
   "metadata": {},
   "source": [
    "### Findings: From this, we can tell that defaulting does not have to do much with annual income, but more with monthly balance."
   ]
  },
  {
   "cell_type": "markdown",
   "metadata": {},
   "source": [
    "Now we want to visualize the other variable, if they are a student or not a student. We want to create a probability chart with both students and non-students and their default rate as monthly balance rises. We also will show a box plot with monthly balance for students and non-students."
   ]
  },
  {
   "cell_type": "code",
   "execution_count": 387,
   "metadata": {
    "scrolled": true
   },
   "outputs": [
    {
     "data": {
      "text/plain": [
       "<AxesSubplot:xlabel='student', ylabel='balance'>"
      ]
     },
     "execution_count": 387,
     "metadata": {},
     "output_type": "execute_result"
    },
    {
     "data": {
      "image/png": "[encoded data removed]",
      "text/plain": [
       "<Figure size 864x360 with 2 Axes>"
      ]
     },
     "metadata": {
      "needs_background": "light"
     },
     "output_type": "display_data"
    }
   ],
   "source": [
    "# Balance and default vectors for students\n",
    "X_train = df_credit.loc[df_credit['student'] == 1].balance.values.reshape(df_credit[df_credit['student'] == 1].balance.size,1) \n",
    "y       = df_credit.loc[df_credit['student'] == 1].default\n",
    "\n",
    "# Repteat for non-students\n",
    "X_train2 = df_credit.loc[df_credit['student'] == 0].balance.values.reshape(df_credit[df_credit['student'] == 0].balance.size,1)\n",
    "y2       = df_credit.loc[df_credit['student'] == 0].default\n",
    "\n",
    "# Vector with balance values for plotting\n",
    "X_test = np.arange(df_credit.balance.min(), df_credit.balance.max()).reshape(-1,1)\n",
    "\n",
    "clf = sklm.LogisticRegression(solver='newton-cg')\n",
    "clf2 = sklm.LogisticRegression(solver='newton-cg')\n",
    "\n",
    "fit1=clf.fit(X_train,y)\n",
    "fit2=clf2.fit(X_train2,y2)\n",
    "\n",
    "prob = fit1.predict_proba(X_test)\n",
    "prob2 = fit2.predict_proba(X_test)\n",
    "df_credit.groupby(['student','default']).size().unstack('default')\n",
    "# Create plots\n",
    "fig, (ax1, ax2) = plt.subplots(1,2, figsize=(12,5))\n",
    "\n",
    "# Student/non-student default rate by montly balance\n",
    "ax1.plot(X_test, pd.DataFrame(prob)[1], color='blue', label='Student')\n",
    "ax1.plot(X_test, pd.DataFrame(prob2)[1], color='black', label='Non-student')\n",
    "ax1.hlines(127/2817, colors='blue', label='Overall Student',\n",
    "           xmin=ax1.xaxis.get_data_interval()[0],\n",
    "           xmax=ax1.xaxis.get_data_interval()[1], linestyles='dashed')\n",
    "ax1.hlines(206/6850, colors='black', label='Overall Non-Student',\n",
    "           xmin=ax1.xaxis.get_data_interval()[0],\n",
    "           xmax=ax1.xaxis.get_data_interval()[1], linestyles='dashed')\n",
    "ax1.set_ylabel('Default Rate')\n",
    "ax1.set_xlabel('Monthly Credit Balance')\n",
    "ax1.set_yticks([0, 0.2, 0.4, 0.6, 0.8, 1.])\n",
    "ax1.set_xlim(450,2500)\n",
    "ax1.legend(loc=2)\n",
    "\n",
    "# Student/non-student box plot for monthly balance\n",
    "sns.boxplot(x='student',y= 'balance', data=df_credit, orient='v', ax=ax2)"
   ]
  },
  {
   "cell_type": "code",
   "execution_count": 388,
   "metadata": {},
   "outputs": [
    {
     "data": {
      "text/plain": [
       "<AxesSubplot:xlabel='student', ylabel='income'>"
      ]
     },
     "execution_count": 388,
     "metadata": {},
     "output_type": "execute_result"
    },
    {
     "data": {
      "image/png": "[encoded data removed]",
      "text/plain": [
       "<Figure size 432x288 with 1 Axes>"
      ]
     },
     "metadata": {
      "needs_background": "light"
     },
     "output_type": "display_data"
    }
   ],
   "source": [
    "# Boxplot of student or non-student and income\n",
    "sns.boxplot(x='student', y='income', data=df_credit, orient='v')"
   ]
  },
  {
   "cell_type": "markdown",
   "metadata": {},
   "source": [
    "## Findings:\n",
    "#### From the left probability chart we see students rate of default increases at a higher balance than when non-students rate of default increases. We also see the overall default rate for students is higher than non-students. From the right box plot we see on average that students have a higher monthly balance than non-students. We confirmed in the third box plot the assumption that non-students have a higher income than students. Although students make less money, they have a higher monthly credit balance and a higher threshold of monthly credit balance before an increase in default probability. "
   ]
  },
  {
   "cell_type": "markdown",
   "metadata": {},
   "source": [
    "## Clustering"
   ]
  },
  {
   "cell_type": "code",
   "execution_count": 389,
   "metadata": {},
   "outputs": [
    {
     "name": "stdout",
     "output_type": "stream",
     "text": [
      "[1780821252595.6152, 482448801324.381, 230308843103.33594, 147521603909.36194, 99923791787.23166, 72701155219.35846, 55129712660.309975, 43143471178.264404, 35666847530.03421, 29622670398.320904, 25251894255.58264, 21722887211.81039, 19017357727.09102, 16576467500.797804]\n"
     ]
    }
   ],
   "source": [
    "# use kmeans - WCSS\n",
    "WCSS = []\n",
    "for i in range(1,15):\n",
    "    kmeans=KMeans(n_clusters=i,init='k-means++',random_state=9)\n",
    "    kmeans.fit(df_credit)\n",
    "    WCSS.append(kmeans.inertia_)\n",
    "print(WCSS)"
   ]
  },
  {
   "cell_type": "code",
   "execution_count": 390,
   "metadata": {},
   "outputs": [
    {
     "data": {
      "image/png": "[encoded data removed]",
      "text/plain": [
       "<Figure size 432x288 with 1 Axes>"
      ]
     },
     "metadata": {},
     "output_type": "display_data"
    }
   ],
   "source": [
    "sns.set()\n",
    "plt.plot(range(1,15),WCSS)\n",
    "plt.xlabel('Number of Clusters')\n",
    "plt.ylabel('WCSS')\n",
    "plt.show()"
   ]
  },
  {
   "cell_type": "markdown",
   "metadata": {},
   "source": [
    "#### I see that increasing the number of clusters, WCSS decreases. Consider 3 clusters which looks optimal."
   ]
  },
  {
   "cell_type": "code",
   "execution_count": 391,
   "metadata": {},
   "outputs": [],
   "source": [
    "kmeans=KMeans(n_clusters=3,init='k-means++',random_state=9)\n",
    "y=kmeans.fit_predict(df_credit)\n",
    "df_credit['Cluster']=y\n",
    "l=['income', 'balance']"
   ]
  },
  {
   "cell_type": "code",
   "execution_count": 392,
   "metadata": {},
   "outputs": [
    {
     "data": {
      "image/png": "[encoded data removed]",
      "text/plain": [
       "<Figure size 1440x1440 with 2 Axes>"
      ]
     },
     "metadata": {},
     "output_type": "display_data"
    }
   ],
   "source": [
    "#plot the clusters\n",
    "plt.figure(figsize=(20,20))\n",
    "for i in range(len(l)):\n",
    "    plt.subplot(3,3,i+1)\n",
    "    sns.boxplot(data = df_credit, x = 'Cluster',y = df_credit[l[i]])\n",
    "    plt.title(l[i])"
   ]
  },
  {
   "cell_type": "code",
   "execution_count": 393,
   "metadata": {},
   "outputs": [],
   "source": [
    "#name and show the clusters \n",
    "credit0=df_credit[df_credit['Cluster']==0]\n",
    "credit1=df_credit[df_credit['Cluster']==1]\n",
    "credit2=df_credit[df_credit['Cluster']==2]"
   ]
  },
  {
   "cell_type": "code",
   "execution_count": 394,
   "metadata": {},
   "outputs": [
    {
     "data": {
      "text/html": [
       "<div>\n",
       "<style scoped>\n",
       "    .dataframe tbody tr th:only-of-type {\n",
       "        vertical-align: middle;\n",
       "    }\n",
       "\n",
       "    .dataframe tbody tr th {\n",
       "        vertical-align: top;\n",
       "    }\n",
       "\n",
       "    .dataframe thead th {\n",
       "        text-align: right;\n",
       "    }\n",
       "</style>\n",
       "<table border=\"1\" class=\"dataframe\">\n",
       "  <thead>\n",
       "    <tr style=\"text-align: right;\">\n",
       "      <th></th>\n",
       "      <th>default</th>\n",
       "      <th>student</th>\n",
       "      <th>balance</th>\n",
       "      <th>income</th>\n",
       "      <th>Cluster</th>\n",
       "    </tr>\n",
       "  </thead>\n",
       "  <tbody>\n",
       "    <tr>\n",
       "      <th>2</th>\n",
       "      <td>0</td>\n",
       "      <td>0</td>\n",
       "      <td>1073.549164</td>\n",
       "      <td>31767.13895</td>\n",
       "      <td>0</td>\n",
       "    </tr>\n",
       "    <tr>\n",
       "      <th>3</th>\n",
       "      <td>0</td>\n",
       "      <td>0</td>\n",
       "      <td>529.250605</td>\n",
       "      <td>35704.49394</td>\n",
       "      <td>0</td>\n",
       "    </tr>\n",
       "    <tr>\n",
       "      <th>4</th>\n",
       "      <td>0</td>\n",
       "      <td>0</td>\n",
       "      <td>785.655883</td>\n",
       "      <td>38463.49588</td>\n",
       "      <td>0</td>\n",
       "    </tr>\n",
       "    <tr>\n",
       "      <th>8</th>\n",
       "      <td>0</td>\n",
       "      <td>0</td>\n",
       "      <td>1161.057854</td>\n",
       "      <td>37468.52929</td>\n",
       "      <td>0</td>\n",
       "    </tr>\n",
       "    <tr>\n",
       "      <th>9</th>\n",
       "      <td>0</td>\n",
       "      <td>0</td>\n",
       "      <td>0.000000</td>\n",
       "      <td>29275.26829</td>\n",
       "      <td>0</td>\n",
       "    </tr>\n",
       "    <tr>\n",
       "      <th>...</th>\n",
       "      <td>...</td>\n",
       "      <td>...</td>\n",
       "      <td>...</td>\n",
       "      <td>...</td>\n",
       "      <td>...</td>\n",
       "    </tr>\n",
       "    <tr>\n",
       "      <th>9979</th>\n",
       "      <td>0</td>\n",
       "      <td>0</td>\n",
       "      <td>173.249172</td>\n",
       "      <td>30697.24506</td>\n",
       "      <td>0</td>\n",
       "    </tr>\n",
       "    <tr>\n",
       "      <th>9981</th>\n",
       "      <td>0</td>\n",
       "      <td>0</td>\n",
       "      <td>739.418018</td>\n",
       "      <td>40656.95145</td>\n",
       "      <td>0</td>\n",
       "    </tr>\n",
       "    <tr>\n",
       "      <th>9985</th>\n",
       "      <td>0</td>\n",
       "      <td>0</td>\n",
       "      <td>842.949429</td>\n",
       "      <td>39957.12786</td>\n",
       "      <td>0</td>\n",
       "    </tr>\n",
       "    <tr>\n",
       "      <th>9988</th>\n",
       "      <td>0</td>\n",
       "      <td>0</td>\n",
       "      <td>0.000000</td>\n",
       "      <td>41740.68660</td>\n",
       "      <td>0</td>\n",
       "    </tr>\n",
       "    <tr>\n",
       "      <th>9998</th>\n",
       "      <td>0</td>\n",
       "      <td>0</td>\n",
       "      <td>1569.009053</td>\n",
       "      <td>36669.11236</td>\n",
       "      <td>0</td>\n",
       "    </tr>\n",
       "  </tbody>\n",
       "</table>\n",
       "<p>3657 rows × 5 columns</p>\n",
       "</div>"
      ],
      "text/plain": [
       "      default  student      balance       income  Cluster\n",
       "2           0        0  1073.549164  31767.13895        0\n",
       "3           0        0   529.250605  35704.49394        0\n",
       "4           0        0   785.655883  38463.49588        0\n",
       "8           0        0  1161.057854  37468.52929        0\n",
       "9           0        0     0.000000  29275.26829        0\n",
       "...       ...      ...          ...          ...      ...\n",
       "9979        0        0   173.249172  30697.24506        0\n",
       "9981        0        0   739.418018  40656.95145        0\n",
       "9985        0        0   842.949429  39957.12786        0\n",
       "9988        0        0     0.000000  41740.68660        0\n",
       "9998        0        0  1569.009053  36669.11236        0\n",
       "\n",
       "[3657 rows x 5 columns]"
      ]
     },
     "execution_count": 394,
     "metadata": {},
     "output_type": "execute_result"
    }
   ],
   "source": [
    "credit0"
   ]
  },
  {
   "cell_type": "code",
   "execution_count": 395,
   "metadata": {},
   "outputs": [
    {
     "data": {
      "text/html": [
       "<div>\n",
       "<style scoped>\n",
       "    .dataframe tbody tr th:only-of-type {\n",
       "        vertical-align: middle;\n",
       "    }\n",
       "\n",
       "    .dataframe tbody tr th {\n",
       "        vertical-align: top;\n",
       "    }\n",
       "\n",
       "    .dataframe thead th {\n",
       "        text-align: right;\n",
       "    }\n",
       "</style>\n",
       "<table border=\"1\" class=\"dataframe\">\n",
       "  <thead>\n",
       "    <tr style=\"text-align: right;\">\n",
       "      <th></th>\n",
       "      <th>default</th>\n",
       "      <th>student</th>\n",
       "      <th>balance</th>\n",
       "      <th>income</th>\n",
       "      <th>Cluster</th>\n",
       "    </tr>\n",
       "  </thead>\n",
       "  <tbody>\n",
       "    <tr>\n",
       "      <th>0</th>\n",
       "      <td>0</td>\n",
       "      <td>0</td>\n",
       "      <td>729.526495</td>\n",
       "      <td>44361.62507</td>\n",
       "      <td>1</td>\n",
       "    </tr>\n",
       "    <tr>\n",
       "      <th>13</th>\n",
       "      <td>0</td>\n",
       "      <td>0</td>\n",
       "      <td>606.742343</td>\n",
       "      <td>44994.55585</td>\n",
       "      <td>1</td>\n",
       "    </tr>\n",
       "    <tr>\n",
       "      <th>15</th>\n",
       "      <td>0</td>\n",
       "      <td>0</td>\n",
       "      <td>286.232560</td>\n",
       "      <td>45042.41304</td>\n",
       "      <td>1</td>\n",
       "    </tr>\n",
       "    <tr>\n",
       "      <th>16</th>\n",
       "      <td>0</td>\n",
       "      <td>0</td>\n",
       "      <td>0.000000</td>\n",
       "      <td>50265.31235</td>\n",
       "      <td>1</td>\n",
       "    </tr>\n",
       "    <tr>\n",
       "      <th>18</th>\n",
       "      <td>0</td>\n",
       "      <td>0</td>\n",
       "      <td>485.936864</td>\n",
       "      <td>61566.10612</td>\n",
       "      <td>1</td>\n",
       "    </tr>\n",
       "    <tr>\n",
       "      <th>...</th>\n",
       "      <td>...</td>\n",
       "      <td>...</td>\n",
       "      <td>...</td>\n",
       "      <td>...</td>\n",
       "      <td>...</td>\n",
       "    </tr>\n",
       "    <tr>\n",
       "      <th>9991</th>\n",
       "      <td>0</td>\n",
       "      <td>0</td>\n",
       "      <td>658.799558</td>\n",
       "      <td>54802.07822</td>\n",
       "      <td>1</td>\n",
       "    </tr>\n",
       "    <tr>\n",
       "      <th>9992</th>\n",
       "      <td>0</td>\n",
       "      <td>0</td>\n",
       "      <td>1111.647317</td>\n",
       "      <td>45490.68246</td>\n",
       "      <td>1</td>\n",
       "    </tr>\n",
       "    <tr>\n",
       "      <th>9993</th>\n",
       "      <td>0</td>\n",
       "      <td>0</td>\n",
       "      <td>938.836241</td>\n",
       "      <td>56633.44874</td>\n",
       "      <td>1</td>\n",
       "    </tr>\n",
       "    <tr>\n",
       "      <th>9995</th>\n",
       "      <td>0</td>\n",
       "      <td>0</td>\n",
       "      <td>711.555020</td>\n",
       "      <td>52992.37891</td>\n",
       "      <td>1</td>\n",
       "    </tr>\n",
       "    <tr>\n",
       "      <th>9997</th>\n",
       "      <td>0</td>\n",
       "      <td>0</td>\n",
       "      <td>845.411989</td>\n",
       "      <td>58636.15698</td>\n",
       "      <td>1</td>\n",
       "    </tr>\n",
       "  </tbody>\n",
       "</table>\n",
       "<p>2753 rows × 5 columns</p>\n",
       "</div>"
      ],
      "text/plain": [
       "      default  student      balance       income  Cluster\n",
       "0           0        0   729.526495  44361.62507        1\n",
       "13          0        0   606.742343  44994.55585        1\n",
       "15          0        0   286.232560  45042.41304        1\n",
       "16          0        0     0.000000  50265.31235        1\n",
       "18          0        0   485.936864  61566.10612        1\n",
       "...       ...      ...          ...          ...      ...\n",
       "9991        0        0   658.799558  54802.07822        1\n",
       "9992        0        0  1111.647317  45490.68246        1\n",
       "9993        0        0   938.836241  56633.44874        1\n",
       "9995        0        0   711.555020  52992.37891        1\n",
       "9997        0        0   845.411989  58636.15698        1\n",
       "\n",
       "[2753 rows x 5 columns]"
      ]
     },
     "execution_count": 395,
     "metadata": {},
     "output_type": "execute_result"
    }
   ],
   "source": [
    "credit1"
   ]
  },
  {
   "cell_type": "code",
   "execution_count": 396,
   "metadata": {},
   "outputs": [
    {
     "data": {
      "text/html": [
       "<div>\n",
       "<style scoped>\n",
       "    .dataframe tbody tr th:only-of-type {\n",
       "        vertical-align: middle;\n",
       "    }\n",
       "\n",
       "    .dataframe tbody tr th {\n",
       "        vertical-align: top;\n",
       "    }\n",
       "\n",
       "    .dataframe thead th {\n",
       "        text-align: right;\n",
       "    }\n",
       "</style>\n",
       "<table border=\"1\" class=\"dataframe\">\n",
       "  <thead>\n",
       "    <tr style=\"text-align: right;\">\n",
       "      <th></th>\n",
       "      <th>default</th>\n",
       "      <th>student</th>\n",
       "      <th>balance</th>\n",
       "      <th>income</th>\n",
       "      <th>Cluster</th>\n",
       "    </tr>\n",
       "  </thead>\n",
       "  <tbody>\n",
       "    <tr>\n",
       "      <th>1</th>\n",
       "      <td>0</td>\n",
       "      <td>1</td>\n",
       "      <td>817.180407</td>\n",
       "      <td>12106.134700</td>\n",
       "      <td>2</td>\n",
       "    </tr>\n",
       "    <tr>\n",
       "      <th>5</th>\n",
       "      <td>0</td>\n",
       "      <td>1</td>\n",
       "      <td>919.588531</td>\n",
       "      <td>7491.558572</td>\n",
       "      <td>2</td>\n",
       "    </tr>\n",
       "    <tr>\n",
       "      <th>6</th>\n",
       "      <td>0</td>\n",
       "      <td>0</td>\n",
       "      <td>825.513331</td>\n",
       "      <td>24905.226580</td>\n",
       "      <td>2</td>\n",
       "    </tr>\n",
       "    <tr>\n",
       "      <th>7</th>\n",
       "      <td>0</td>\n",
       "      <td>1</td>\n",
       "      <td>808.667504</td>\n",
       "      <td>17600.451340</td>\n",
       "      <td>2</td>\n",
       "    </tr>\n",
       "    <tr>\n",
       "      <th>10</th>\n",
       "      <td>0</td>\n",
       "      <td>1</td>\n",
       "      <td>0.000000</td>\n",
       "      <td>21871.073090</td>\n",
       "      <td>2</td>\n",
       "    </tr>\n",
       "    <tr>\n",
       "      <th>...</th>\n",
       "      <td>...</td>\n",
       "      <td>...</td>\n",
       "      <td>...</td>\n",
       "      <td>...</td>\n",
       "      <td>...</td>\n",
       "    </tr>\n",
       "    <tr>\n",
       "      <th>9989</th>\n",
       "      <td>0</td>\n",
       "      <td>1</td>\n",
       "      <td>999.281112</td>\n",
       "      <td>20013.350640</td>\n",
       "      <td>2</td>\n",
       "    </tr>\n",
       "    <tr>\n",
       "      <th>9990</th>\n",
       "      <td>0</td>\n",
       "      <td>0</td>\n",
       "      <td>372.379238</td>\n",
       "      <td>25374.899090</td>\n",
       "      <td>2</td>\n",
       "    </tr>\n",
       "    <tr>\n",
       "      <th>9994</th>\n",
       "      <td>0</td>\n",
       "      <td>1</td>\n",
       "      <td>172.412988</td>\n",
       "      <td>14955.941690</td>\n",
       "      <td>2</td>\n",
       "    </tr>\n",
       "    <tr>\n",
       "      <th>9996</th>\n",
       "      <td>0</td>\n",
       "      <td>0</td>\n",
       "      <td>757.962918</td>\n",
       "      <td>19660.721770</td>\n",
       "      <td>2</td>\n",
       "    </tr>\n",
       "    <tr>\n",
       "      <th>9999</th>\n",
       "      <td>0</td>\n",
       "      <td>1</td>\n",
       "      <td>200.922183</td>\n",
       "      <td>16862.952320</td>\n",
       "      <td>2</td>\n",
       "    </tr>\n",
       "  </tbody>\n",
       "</table>\n",
       "<p>3590 rows × 5 columns</p>\n",
       "</div>"
      ],
      "text/plain": [
       "      default  student     balance        income  Cluster\n",
       "1           0        1  817.180407  12106.134700        2\n",
       "5           0        1  919.588531   7491.558572        2\n",
       "6           0        0  825.513331  24905.226580        2\n",
       "7           0        1  808.667504  17600.451340        2\n",
       "10          0        1    0.000000  21871.073090        2\n",
       "...       ...      ...         ...           ...      ...\n",
       "9989        0        1  999.281112  20013.350640        2\n",
       "9990        0        0  372.379238  25374.899090        2\n",
       "9994        0        1  172.412988  14955.941690        2\n",
       "9996        0        0  757.962918  19660.721770        2\n",
       "9999        0        1  200.922183  16862.952320        2\n",
       "\n",
       "[3590 rows x 5 columns]"
      ]
     },
     "execution_count": 396,
     "metadata": {},
     "output_type": "execute_result"
    }
   ],
   "source": [
    "credit2"
   ]
  },
  {
   "cell_type": "code",
   "execution_count": 397,
   "metadata": {},
   "outputs": [
    {
     "data": {
      "text/plain": [
       "103"
      ]
     },
     "execution_count": 397,
     "metadata": {},
     "output_type": "execute_result"
    },
    {
     "data": {
      "image/png": "[encoded data removed]",
      "text/plain": [
       "<Figure size 432x288 with 1 Axes>"
      ]
     },
     "metadata": {},
     "output_type": "display_data"
    }
   ],
   "source": [
    "# See how many default vs non default in each cluster...\n",
    "sns.countplot(x = 'default', data = credit0)\n",
    "print\n",
    "credit0['default'].value_counts()[1]"
   ]
  },
  {
   "cell_type": "code",
   "execution_count": 398,
   "metadata": {},
   "outputs": [
    {
     "data": {
      "text/plain": [
       "86"
      ]
     },
     "execution_count": 398,
     "metadata": {},
     "output_type": "execute_result"
    },
    {
     "data": {
      "image/png": "[encoded data removed]",
      "text/plain": [
       "<Figure size 432x288 with 1 Axes>"
      ]
     },
     "metadata": {},
     "output_type": "display_data"
    }
   ],
   "source": [
    "sns.countplot(x = 'default', data = credit1)\n",
    "print\n",
    "credit1['default'].value_counts()[1]"
   ]
  },
  {
   "cell_type": "code",
   "execution_count": 399,
   "metadata": {},
   "outputs": [
    {
     "data": {
      "text/plain": [
       "144"
      ]
     },
     "execution_count": 399,
     "metadata": {},
     "output_type": "execute_result"
    },
    {
     "data": {
      "image/png": "[encoded data removed]",
      "text/plain": [
       "<Figure size 432x288 with 1 Axes>"
      ]
     },
     "metadata": {},
     "output_type": "display_data"
    }
   ],
   "source": [
    "sns.countplot(x = 'default', data = credit2)\n",
    "print\n",
    "credit2['default'].value_counts()[1]"
   ]
  },
  {
   "cell_type": "markdown",
   "metadata": {},
   "source": [
    "#### We wanted to see if a cluster would have the majority of defaults, but all 3 clusters have around the same. Cluster 0 has the highest amount of defaults with 144, while cluster 1 has the lowest with 86. The clusters have seem to be mainly be split into income classes, so it makes sense cluster 1 (highest income) have the lowest amount of defaulters, and cluster 0 (lowest income) have the highest amount of defaulters."
   ]
  },
  {
   "cell_type": "markdown",
   "metadata": {},
   "source": [
    "## Data Reduction (PCA) and Classification Model Building"
   ]
  },
  {
   "cell_type": "markdown",
   "metadata": {},
   "source": [
    "We want to use PCA to possibly reduce the amount of components needed for an accurate model. There are only 3 componenets so we may be able to reduce to 2. We then want to build different classification models to determine which is the best at predicting if someone will default on their credit."
   ]
  },
  {
   "cell_type": "code",
   "execution_count": 400,
   "metadata": {},
   "outputs": [],
   "source": [
    "# Partition data\n",
    "y = df_credit['default']\n",
    "X = df_credit.drop(columns=['default'])\n",
    "X_train, X_test, y_train, y_test = train_test_split(X, y, test_size=0.4, random_state=33)"
   ]
  },
  {
   "cell_type": "code",
   "execution_count": 401,
   "metadata": {},
   "outputs": [],
   "source": [
    "# Scale data for model\n",
    "scaler = StandardScaler()\n",
    "# Fit on training set only\n",
    "scaler.fit(X_train)\n",
    "# Apply transform to both the training set and the test set\n",
    "X_train = scaler.transform(X_train)\n",
    "X_test = scaler.transform(X_test)"
   ]
  },
  {
   "cell_type": "code",
   "execution_count": 402,
   "metadata": {},
   "outputs": [
    {
     "data": {
      "text/html": [
       "<div>\n",
       "<style scoped>\n",
       "    .dataframe tbody tr th:only-of-type {\n",
       "        vertical-align: middle;\n",
       "    }\n",
       "\n",
       "    .dataframe tbody tr th {\n",
       "        vertical-align: top;\n",
       "    }\n",
       "\n",
       "    .dataframe thead th {\n",
       "        text-align: right;\n",
       "    }\n",
       "</style>\n",
       "<table border=\"1\" class=\"dataframe\">\n",
       "  <thead>\n",
       "    <tr style=\"text-align: right;\">\n",
       "      <th></th>\n",
       "      <th>PC1</th>\n",
       "      <th>PC2</th>\n",
       "    </tr>\n",
       "  </thead>\n",
       "  <tbody>\n",
       "    <tr>\n",
       "      <th>Standard deviation</th>\n",
       "      <td>1.5588</td>\n",
       "      <td>0.9666</td>\n",
       "    </tr>\n",
       "    <tr>\n",
       "      <th>Proportion of variance</th>\n",
       "      <td>0.6074</td>\n",
       "      <td>0.2336</td>\n",
       "    </tr>\n",
       "    <tr>\n",
       "      <th>Cumulative proportion</th>\n",
       "      <td>0.6074</td>\n",
       "      <td>0.8409</td>\n",
       "    </tr>\n",
       "  </tbody>\n",
       "</table>\n",
       "</div>"
      ],
      "text/plain": [
       "                           PC1     PC2\n",
       "Standard deviation      1.5588  0.9666\n",
       "Proportion of variance  0.6074  0.2336\n",
       "Cumulative proportion   0.6074  0.8409"
      ]
     },
     "execution_count": 402,
     "metadata": {},
     "output_type": "execute_result"
    }
   ],
   "source": [
    "# Use PCA to reduce the amount of components needed to run a test\n",
    "pcs = PCA(n_components = 2)\n",
    "pcs.fit(X_train)\n",
    "pcsSummary_df = pd.DataFrame({'Standard deviation': np.sqrt(pcs.explained_variance_),\n",
    "                              'Proportion of variance': pcs.explained_variance_ratio_,\n",
    "                              'Cumulative proportion': np.cumsum(pcs.explained_variance_ratio_)})\n",
    "pcsSummary_df = pcsSummary_df.transpose()\n",
    "pcsSummary_df.columns = ['PC{}'.format(i) for i in range(1, len(pcsSummary_df.columns) + 1)]\n",
    "pcsSummary_df.round(4)"
   ]
  },
  {
   "cell_type": "markdown",
   "metadata": {},
   "source": [
    "2 out of 3 components cover over 91%, so we can test the models with 2 components."
   ]
  },
  {
   "cell_type": "code",
   "execution_count": 403,
   "metadata": {},
   "outputs": [
    {
     "name": "stdout",
     "output_type": "stream",
     "text": [
      "Accuracy of Logistic regression classifier on training set: 0.973\n",
      "Accuracy of Logistic regression classifier on test set: 0.973\n",
      "=====\n",
      "AIC -3119.374956923104\n",
      "=====\n",
      "Confusion Matrix (Accuracy 0.9732)\n",
      "\n",
      "       Prediction\n",
      "Actual    0    1\n",
      "     0 3852   17\n",
      "     1   90   41\n"
     ]
    }
   ],
   "source": [
    "# Logistic Regression Model\n",
    "logreg = LogisticRegression()\n",
    "logreg.fit(X_train, y_train)\n",
    "print('Accuracy of Logistic regression classifier on training set: {:.3f}' .format(logreg.score(X_train, y_train)))\n",
    "print('Accuracy of Logistic regression classifier on test set: {:.3f}' .format(logreg.score(X_test, y_test)))\n",
    "print('=====')\n",
    "print('AIC', AIC_score(y_test, logreg.predict(X_test), df = len(df_credit.columns) + 1))\n",
    "print('=====')\n",
    "classificationSummary(y_test, logreg.predict(X_test))"
   ]
  },
  {
   "cell_type": "code",
   "execution_count": 404,
   "metadata": {},
   "outputs": [
    {
     "name": "stdout",
     "output_type": "stream",
     "text": [
      "   k  accuracy\n",
      "0  1   0.95450\n",
      "1  2   0.96675\n",
      "2  3   0.96550\n",
      "3  4   0.96950\n",
      "4  5   0.97050\n",
      "5  6   0.97250\n",
      "6  7   0.97100\n",
      "7  8   0.97225\n",
      "8  9   0.97325\n"
     ]
    }
   ],
   "source": [
    "#Looking for best K nearest neighbor for KNN model\n",
    "results = []\n",
    "for k in range(1, 10):\n",
    "    knn = KNeighborsClassifier(n_neighbors=k).fit(X_train, y_train)\n",
    "    results.append({'k': k, 'accuracy': accuracy_score(y_test, knn.predict(X_test))})\n",
    "results = pd.DataFrame(results)\n",
    "print(results)"
   ]
  },
  {
   "cell_type": "code",
   "execution_count": 405,
   "metadata": {},
   "outputs": [
    {
     "name": "stdout",
     "output_type": "stream",
     "text": [
      "Accuracy of K-NN classifier on training set: 0.979\n",
      "Accuracy of K-NN classifier on test set: 0.967\n",
      "=====\n",
      "AIC -2249.2937818837145\n",
      "=====\n",
      "Confusion Matrix (Accuracy 0.9667)\n",
      "\n",
      "       Prediction\n",
      "Actual    0    1\n",
      "     0 3838   31\n",
      "     1  102   29\n"
     ]
    }
   ],
   "source": [
    "# With such high accuracy all around we will choose a low amount of neighbors, 2\n",
    "# KNN Model\n",
    "knn=KNeighborsClassifier(n_neighbors=2)\n",
    "knn.fit(X_train,y_train)\n",
    "print('Accuracy of K-NN classifier on training set: {:.3f}'\n",
    "      .format(knn.score(X_train, y_train)))\n",
    "print('Accuracy of K-NN classifier on test set: {:.3f}'\n",
    "      .format(knn.score(X_test, y_test)))\n",
    "print('=====')\n",
    "print('AIC', AIC_score(y_test, knn.predict(X_test), df = len(df_credit.columns) + 1))\n",
    "print('=====')\n",
    "classificationSummary(y_test, knn.predict(X_test))"
   ]
  },
  {
   "cell_type": "code",
   "execution_count": 406,
   "metadata": {},
   "outputs": [
    {
     "name": "stdout",
     "output_type": "stream",
     "text": [
      "Accuracy of GNB classifier on training set: 0.966\n",
      "Accuracy of GNB classifier on test set: 0.965\n",
      "=====\n",
      "AIC -2044.1206043335114\n",
      "=====\n",
      "Confusion Matrix (Accuracy 0.9650)\n",
      "\n",
      "       Prediction\n",
      "Actual    0    1\n",
      "     0 3826   43\n",
      "     1   97   34\n"
     ]
    }
   ],
   "source": [
    "#Gaussian Naive Bayes\n",
    "gnb = GaussianNB()\n",
    "gnb.fit(X_train, y_train)\n",
    "print('Accuracy of GNB classifier on training set: {:.3f}'\n",
    "      .format(gnb.score(X_train, y_train)))\n",
    "print('Accuracy of GNB classifier on test set: {:.3f}'\n",
    "      .format(gnb.score(X_test, y_test)))\n",
    "print('=====')\n",
    "print('AIC', AIC_score(y_test, gnb.predict(X_test), df = len(df_credit.columns) + 1))\n",
    "print('=====')\n",
    "classificationSummary(y_test, gnb.predict(X_test))"
   ]
  },
  {
   "cell_type": "markdown",
   "metadata": {},
   "source": [
    "### Conclusion: Our Logistic Regression model is the best model to predict if a creditor will default or not. Logistic Regression had most negative (lowest) AIC score of the 3 models ran."
   ]
  }
 ],
 "metadata": {
  "kernelspec": {
   "display_name": "Python 3 (ipykernel)",
   "language": "python",
   "name": "python3"
  },
  "language_info": {
   "codemirror_mode": {
    "name": "ipython",
    "version": 3
   },
   "file_extension": ".py",
   "mimetype": "text/x-python",
   "name": "python",
   "nbconvert_exporter": "python",
   "pygments_lexer": "ipython3",
   "version": "3.9.12"
  },
  "vscode": {
   "interpreter": {
    "hash": "ad2bdc8ecc057115af97d19610ffacc2b4e99fae6737bb82f5d7fb13d2f2c186"
   }
  }
 },
 "nbformat": 4,
 "nbformat_minor": 4
}
